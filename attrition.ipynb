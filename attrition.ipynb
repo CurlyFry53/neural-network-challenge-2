{
  "cells": [
    {
      "cell_type": "markdown",
      "metadata": {
        "id": "alIIEHibGc3M"
      },
      "source": [
        "## Part 1: Preprocessing"
      ]
    },
    {
      "cell_type": "code",
      "execution_count": 1,
      "metadata": {
        "colab": {
          "base_uri": "https://localhost:8080/",
          "height": 325
        },
        "id": "6eDUJ4NtGc3P",
        "outputId": "2480098c-135c-4cbf-9552-018494ee8ff5"
      },
      "outputs": [
        {
          "data": {
            "text/html": [
              "<div>\n",
              "<style scoped>\n",
              "    .dataframe tbody tr th:only-of-type {\n",
              "        vertical-align: middle;\n",
              "    }\n",
              "\n",
              "    .dataframe tbody tr th {\n",
              "        vertical-align: top;\n",
              "    }\n",
              "\n",
              "    .dataframe thead th {\n",
              "        text-align: right;\n",
              "    }\n",
              "</style>\n",
              "<table border=\"1\" class=\"dataframe\">\n",
              "  <thead>\n",
              "    <tr style=\"text-align: right;\">\n",
              "      <th></th>\n",
              "      <th>Age</th>\n",
              "      <th>Attrition</th>\n",
              "      <th>BusinessTravel</th>\n",
              "      <th>Department</th>\n",
              "      <th>DistanceFromHome</th>\n",
              "      <th>Education</th>\n",
              "      <th>EducationField</th>\n",
              "      <th>EnvironmentSatisfaction</th>\n",
              "      <th>HourlyRate</th>\n",
              "      <th>JobInvolvement</th>\n",
              "      <th>...</th>\n",
              "      <th>PerformanceRating</th>\n",
              "      <th>RelationshipSatisfaction</th>\n",
              "      <th>StockOptionLevel</th>\n",
              "      <th>TotalWorkingYears</th>\n",
              "      <th>TrainingTimesLastYear</th>\n",
              "      <th>WorkLifeBalance</th>\n",
              "      <th>YearsAtCompany</th>\n",
              "      <th>YearsInCurrentRole</th>\n",
              "      <th>YearsSinceLastPromotion</th>\n",
              "      <th>YearsWithCurrManager</th>\n",
              "    </tr>\n",
              "  </thead>\n",
              "  <tbody>\n",
              "    <tr>\n",
              "      <th>0</th>\n",
              "      <td>41</td>\n",
              "      <td>Yes</td>\n",
              "      <td>Travel_Rarely</td>\n",
              "      <td>Sales</td>\n",
              "      <td>1</td>\n",
              "      <td>2</td>\n",
              "      <td>Life Sciences</td>\n",
              "      <td>2</td>\n",
              "      <td>94</td>\n",
              "      <td>3</td>\n",
              "      <td>...</td>\n",
              "      <td>3</td>\n",
              "      <td>1</td>\n",
              "      <td>0</td>\n",
              "      <td>8</td>\n",
              "      <td>0</td>\n",
              "      <td>1</td>\n",
              "      <td>6</td>\n",
              "      <td>4</td>\n",
              "      <td>0</td>\n",
              "      <td>5</td>\n",
              "    </tr>\n",
              "    <tr>\n",
              "      <th>1</th>\n",
              "      <td>49</td>\n",
              "      <td>No</td>\n",
              "      <td>Travel_Frequently</td>\n",
              "      <td>Research &amp; Development</td>\n",
              "      <td>8</td>\n",
              "      <td>1</td>\n",
              "      <td>Life Sciences</td>\n",
              "      <td>3</td>\n",
              "      <td>61</td>\n",
              "      <td>2</td>\n",
              "      <td>...</td>\n",
              "      <td>4</td>\n",
              "      <td>4</td>\n",
              "      <td>1</td>\n",
              "      <td>10</td>\n",
              "      <td>3</td>\n",
              "      <td>3</td>\n",
              "      <td>10</td>\n",
              "      <td>7</td>\n",
              "      <td>1</td>\n",
              "      <td>7</td>\n",
              "    </tr>\n",
              "    <tr>\n",
              "      <th>2</th>\n",
              "      <td>37</td>\n",
              "      <td>Yes</td>\n",
              "      <td>Travel_Rarely</td>\n",
              "      <td>Research &amp; Development</td>\n",
              "      <td>2</td>\n",
              "      <td>2</td>\n",
              "      <td>Other</td>\n",
              "      <td>4</td>\n",
              "      <td>92</td>\n",
              "      <td>2</td>\n",
              "      <td>...</td>\n",
              "      <td>3</td>\n",
              "      <td>2</td>\n",
              "      <td>0</td>\n",
              "      <td>7</td>\n",
              "      <td>3</td>\n",
              "      <td>3</td>\n",
              "      <td>0</td>\n",
              "      <td>0</td>\n",
              "      <td>0</td>\n",
              "      <td>0</td>\n",
              "    </tr>\n",
              "    <tr>\n",
              "      <th>3</th>\n",
              "      <td>33</td>\n",
              "      <td>No</td>\n",
              "      <td>Travel_Frequently</td>\n",
              "      <td>Research &amp; Development</td>\n",
              "      <td>3</td>\n",
              "      <td>4</td>\n",
              "      <td>Life Sciences</td>\n",
              "      <td>4</td>\n",
              "      <td>56</td>\n",
              "      <td>3</td>\n",
              "      <td>...</td>\n",
              "      <td>3</td>\n",
              "      <td>3</td>\n",
              "      <td>0</td>\n",
              "      <td>8</td>\n",
              "      <td>3</td>\n",
              "      <td>3</td>\n",
              "      <td>8</td>\n",
              "      <td>7</td>\n",
              "      <td>3</td>\n",
              "      <td>0</td>\n",
              "    </tr>\n",
              "    <tr>\n",
              "      <th>4</th>\n",
              "      <td>27</td>\n",
              "      <td>No</td>\n",
              "      <td>Travel_Rarely</td>\n",
              "      <td>Research &amp; Development</td>\n",
              "      <td>2</td>\n",
              "      <td>1</td>\n",
              "      <td>Medical</td>\n",
              "      <td>1</td>\n",
              "      <td>40</td>\n",
              "      <td>3</td>\n",
              "      <td>...</td>\n",
              "      <td>3</td>\n",
              "      <td>4</td>\n",
              "      <td>1</td>\n",
              "      <td>6</td>\n",
              "      <td>3</td>\n",
              "      <td>3</td>\n",
              "      <td>2</td>\n",
              "      <td>2</td>\n",
              "      <td>2</td>\n",
              "      <td>2</td>\n",
              "    </tr>\n",
              "  </tbody>\n",
              "</table>\n",
              "<p>5 rows × 27 columns</p>\n",
              "</div>"
            ],
            "text/plain": [
              "   Age Attrition     BusinessTravel              Department  DistanceFromHome  \\\n",
              "0   41       Yes      Travel_Rarely                   Sales                 1   \n",
              "1   49        No  Travel_Frequently  Research & Development                 8   \n",
              "2   37       Yes      Travel_Rarely  Research & Development                 2   \n",
              "3   33        No  Travel_Frequently  Research & Development                 3   \n",
              "4   27        No      Travel_Rarely  Research & Development                 2   \n",
              "\n",
              "   Education EducationField  EnvironmentSatisfaction  HourlyRate  \\\n",
              "0          2  Life Sciences                        2          94   \n",
              "1          1  Life Sciences                        3          61   \n",
              "2          2          Other                        4          92   \n",
              "3          4  Life Sciences                        4          56   \n",
              "4          1        Medical                        1          40   \n",
              "\n",
              "   JobInvolvement  ...  PerformanceRating RelationshipSatisfaction  \\\n",
              "0               3  ...                  3                        1   \n",
              "1               2  ...                  4                        4   \n",
              "2               2  ...                  3                        2   \n",
              "3               3  ...                  3                        3   \n",
              "4               3  ...                  3                        4   \n",
              "\n",
              "   StockOptionLevel TotalWorkingYears  TrainingTimesLastYear WorkLifeBalance  \\\n",
              "0                 0                 8                      0               1   \n",
              "1                 1                10                      3               3   \n",
              "2                 0                 7                      3               3   \n",
              "3                 0                 8                      3               3   \n",
              "4                 1                 6                      3               3   \n",
              "\n",
              "   YearsAtCompany  YearsInCurrentRole  YearsSinceLastPromotion  \\\n",
              "0               6                   4                        0   \n",
              "1              10                   7                        1   \n",
              "2               0                   0                        0   \n",
              "3               8                   7                        3   \n",
              "4               2                   2                        2   \n",
              "\n",
              "   YearsWithCurrManager  \n",
              "0                     5  \n",
              "1                     7  \n",
              "2                     0  \n",
              "3                     0  \n",
              "4                     2  \n",
              "\n",
              "[5 rows x 27 columns]"
            ]
          },
          "execution_count": 1,
          "metadata": {},
          "output_type": "execute_result"
        }
      ],
      "source": [
        "# Import our dependencies\n",
        "from sklearn.model_selection import train_test_split\n",
        "from sklearn.preprocessing import StandardScaler\n",
        "import pandas as pd\n",
        "import numpy as np\n",
        "from tensorflow.keras.models import Model\n",
        "from tensorflow.keras import layers\n",
        "\n",
        "#  Import and read the attrition data\n",
        "attrition_df = pd.read_csv('https://static.bc-edx.com/ai/ail-v-1-0/m19/lms/datasets/attrition.csv')\n",
        "attrition_df.head()"
      ]
    },
    {
      "cell_type": "code",
      "execution_count": 2,
      "metadata": {
        "colab": {
          "base_uri": "https://localhost:8080/"
        },
        "id": "g22aQSY4Gc3Q",
        "outputId": "1f5c13c1-b981-4e40-a7ed-dd3fe6f1b81e"
      },
      "outputs": [
        {
          "data": {
            "text/plain": [
              "Age                         43\n",
              "Attrition                    2\n",
              "BusinessTravel               3\n",
              "Department                   3\n",
              "DistanceFromHome            29\n",
              "Education                    5\n",
              "EducationField               6\n",
              "EnvironmentSatisfaction      4\n",
              "HourlyRate                  71\n",
              "JobInvolvement               4\n",
              "JobLevel                     5\n",
              "JobRole                      9\n",
              "JobSatisfaction              4\n",
              "MaritalStatus                3\n",
              "NumCompaniesWorked          10\n",
              "OverTime                     2\n",
              "PercentSalaryHike           15\n",
              "PerformanceRating            2\n",
              "RelationshipSatisfaction     4\n",
              "StockOptionLevel             4\n",
              "TotalWorkingYears           40\n",
              "TrainingTimesLastYear        7\n",
              "WorkLifeBalance              4\n",
              "YearsAtCompany              37\n",
              "YearsInCurrentRole          19\n",
              "YearsSinceLastPromotion     16\n",
              "YearsWithCurrManager        18\n",
              "dtype: int64"
            ]
          },
          "execution_count": 2,
          "metadata": {},
          "output_type": "execute_result"
        }
      ],
      "source": [
        "# Determine the number of unique values in each column.\n",
        "attrition_df.nunique()"
      ]
    },
    {
      "cell_type": "code",
      "execution_count": 3,
      "metadata": {
        "id": "50vMgBEnJbfM"
      },
      "outputs": [
        {
          "data": {
            "text/html": [
              "<div>\n",
              "<style scoped>\n",
              "    .dataframe tbody tr th:only-of-type {\n",
              "        vertical-align: middle;\n",
              "    }\n",
              "\n",
              "    .dataframe tbody tr th {\n",
              "        vertical-align: top;\n",
              "    }\n",
              "\n",
              "    .dataframe thead th {\n",
              "        text-align: right;\n",
              "    }\n",
              "</style>\n",
              "<table border=\"1\" class=\"dataframe\">\n",
              "  <thead>\n",
              "    <tr style=\"text-align: right;\">\n",
              "      <th></th>\n",
              "      <th>Attrition</th>\n",
              "      <th>Department</th>\n",
              "    </tr>\n",
              "  </thead>\n",
              "  <tbody>\n",
              "    <tr>\n",
              "      <th>0</th>\n",
              "      <td>Yes</td>\n",
              "      <td>Sales</td>\n",
              "    </tr>\n",
              "    <tr>\n",
              "      <th>1</th>\n",
              "      <td>No</td>\n",
              "      <td>Research &amp; Development</td>\n",
              "    </tr>\n",
              "    <tr>\n",
              "      <th>2</th>\n",
              "      <td>Yes</td>\n",
              "      <td>Research &amp; Development</td>\n",
              "    </tr>\n",
              "    <tr>\n",
              "      <th>3</th>\n",
              "      <td>No</td>\n",
              "      <td>Research &amp; Development</td>\n",
              "    </tr>\n",
              "    <tr>\n",
              "      <th>4</th>\n",
              "      <td>No</td>\n",
              "      <td>Research &amp; Development</td>\n",
              "    </tr>\n",
              "    <tr>\n",
              "      <th>...</th>\n",
              "      <td>...</td>\n",
              "      <td>...</td>\n",
              "    </tr>\n",
              "    <tr>\n",
              "      <th>1465</th>\n",
              "      <td>No</td>\n",
              "      <td>Research &amp; Development</td>\n",
              "    </tr>\n",
              "    <tr>\n",
              "      <th>1466</th>\n",
              "      <td>No</td>\n",
              "      <td>Research &amp; Development</td>\n",
              "    </tr>\n",
              "    <tr>\n",
              "      <th>1467</th>\n",
              "      <td>No</td>\n",
              "      <td>Research &amp; Development</td>\n",
              "    </tr>\n",
              "    <tr>\n",
              "      <th>1468</th>\n",
              "      <td>No</td>\n",
              "      <td>Sales</td>\n",
              "    </tr>\n",
              "    <tr>\n",
              "      <th>1469</th>\n",
              "      <td>No</td>\n",
              "      <td>Research &amp; Development</td>\n",
              "    </tr>\n",
              "  </tbody>\n",
              "</table>\n",
              "<p>1470 rows × 2 columns</p>\n",
              "</div>"
            ],
            "text/plain": [
              "     Attrition              Department\n",
              "0          Yes                   Sales\n",
              "1           No  Research & Development\n",
              "2          Yes  Research & Development\n",
              "3           No  Research & Development\n",
              "4           No  Research & Development\n",
              "...        ...                     ...\n",
              "1465        No  Research & Development\n",
              "1466        No  Research & Development\n",
              "1467        No  Research & Development\n",
              "1468        No                   Sales\n",
              "1469        No  Research & Development\n",
              "\n",
              "[1470 rows x 2 columns]"
            ]
          },
          "execution_count": 3,
          "metadata": {},
          "output_type": "execute_result"
        }
      ],
      "source": [
        "# Create y_df with the Attrition and Department columns\n",
        "y_df = attrition_df[['Attrition', 'Department']]\n",
        "y_df"
      ]
    },
    {
      "cell_type": "code",
      "execution_count": 4,
      "metadata": {
        "colab": {
          "base_uri": "https://localhost:8080/"
        },
        "id": "Virka0zLGc3R",
        "outputId": "dd5aee3a-9458-4ba6-e857-1b234de40915"
      },
      "outputs": [
        {
          "data": {
            "text/plain": [
              "Age                        int64\n",
              "JobLevel                   int64\n",
              "WorkLifeBalance            int64\n",
              "YearsSinceLastPromotion    int64\n",
              "DistanceFromHome           int64\n",
              "PerformanceRating          int64\n",
              "JobSatisfaction            int64\n",
              "Education                  int64\n",
              "HourlyRate                 int64\n",
              "JobInvolvement             int64\n",
              "dtype: object"
            ]
          },
          "execution_count": 4,
          "metadata": {},
          "output_type": "execute_result"
        }
      ],
      "source": [
        "# Create a list of at least 10 column names to use as X data\n",
        "column_names = ['Age', 'JobLevel', 'WorkLifeBalance', 'YearsSinceLastPromotion', 'DistanceFromHome',\n",
        "                'PerformanceRating', 'JobSatisfaction', 'Education', 'HourlyRate', \n",
        "                'JobInvolvement']\n",
        "\n",
        "\n",
        "# Create X_df using your selected columns\n",
        "X_df = attrition_df[column_names]\n",
        "\n",
        "# Show the data types for X_df\n",
        "X_df.dtypes\n"
      ]
    },
    {
      "cell_type": "code",
      "execution_count": 5,
      "metadata": {
        "id": "KaJfdOGUMHMR"
      },
      "outputs": [],
      "source": [
        "# Split the data into training and testing sets\n",
        "from sklearn.model_selection import train_test_split\n",
        "\n",
        "X_train, X_test, y_train, y_test = train_test_split(X_df, y_df, random_state=42)"
      ]
    },
    {
      "cell_type": "code",
      "execution_count": 6,
      "metadata": {
        "colab": {
          "base_uri": "https://localhost:8080/"
        },
        "id": "NYubUJqiLCSp",
        "outputId": "53f31721-571c-4c94-d13e-25a715749593"
      },
      "outputs": [],
      "source": [
        "# Convert your X data to numeric data types however you see fit\n",
        "# Add new code cells as necessary\n"
      ]
    },
    {
      "cell_type": "code",
      "execution_count": 7,
      "metadata": {
        "id": "EWA-aIA5Gc3T"
      },
      "outputs": [],
      "source": [
        "# Create a StandardScaler\n",
        "scaler = StandardScaler()\n",
        "\n",
        "# Fit the StandardScaler to the training data\n",
        "scaler.fit(X_train)\n",
        "\n",
        "# Scale the training and testing data\n",
        "X_train_scaled = scaler.transform(X_train)\n",
        "X_test_scaled = scaler.transform(X_test)"
      ]
    },
    {
      "cell_type": "code",
      "execution_count": 20,
      "metadata": {
        "colab": {
          "base_uri": "https://localhost:8080/"
        },
        "id": "-z0Mky8vQSz4",
        "outputId": "debefc85-c20b-48f5-f4d9-91eadd65d36a"
      },
      "outputs": [
        {
          "data": {
            "text/html": [
              "<div>\n",
              "<style scoped>\n",
              "    .dataframe tbody tr th:only-of-type {\n",
              "        vertical-align: middle;\n",
              "    }\n",
              "\n",
              "    .dataframe tbody tr th {\n",
              "        vertical-align: top;\n",
              "    }\n",
              "\n",
              "    .dataframe thead th {\n",
              "        text-align: right;\n",
              "    }\n",
              "</style>\n",
              "<table border=\"1\" class=\"dataframe\">\n",
              "  <thead>\n",
              "    <tr style=\"text-align: right;\">\n",
              "      <th></th>\n",
              "      <th>Department_Human Resources</th>\n",
              "      <th>Department_Research &amp; Development</th>\n",
              "      <th>Department_Sales</th>\n",
              "    </tr>\n",
              "  </thead>\n",
              "  <tbody>\n",
              "    <tr>\n",
              "      <th>0</th>\n",
              "      <td>0.0</td>\n",
              "      <td>0.0</td>\n",
              "      <td>1.0</td>\n",
              "    </tr>\n",
              "    <tr>\n",
              "      <th>1</th>\n",
              "      <td>0.0</td>\n",
              "      <td>1.0</td>\n",
              "      <td>0.0</td>\n",
              "    </tr>\n",
              "    <tr>\n",
              "      <th>2</th>\n",
              "      <td>1.0</td>\n",
              "      <td>0.0</td>\n",
              "      <td>0.0</td>\n",
              "    </tr>\n",
              "    <tr>\n",
              "      <th>3</th>\n",
              "      <td>0.0</td>\n",
              "      <td>1.0</td>\n",
              "      <td>0.0</td>\n",
              "    </tr>\n",
              "    <tr>\n",
              "      <th>4</th>\n",
              "      <td>0.0</td>\n",
              "      <td>1.0</td>\n",
              "      <td>0.0</td>\n",
              "    </tr>\n",
              "    <tr>\n",
              "      <th>...</th>\n",
              "      <td>...</td>\n",
              "      <td>...</td>\n",
              "      <td>...</td>\n",
              "    </tr>\n",
              "    <tr>\n",
              "      <th>363</th>\n",
              "      <td>0.0</td>\n",
              "      <td>1.0</td>\n",
              "      <td>0.0</td>\n",
              "    </tr>\n",
              "    <tr>\n",
              "      <th>364</th>\n",
              "      <td>0.0</td>\n",
              "      <td>1.0</td>\n",
              "      <td>0.0</td>\n",
              "    </tr>\n",
              "    <tr>\n",
              "      <th>365</th>\n",
              "      <td>0.0</td>\n",
              "      <td>1.0</td>\n",
              "      <td>0.0</td>\n",
              "    </tr>\n",
              "    <tr>\n",
              "      <th>366</th>\n",
              "      <td>1.0</td>\n",
              "      <td>0.0</td>\n",
              "      <td>0.0</td>\n",
              "    </tr>\n",
              "    <tr>\n",
              "      <th>367</th>\n",
              "      <td>0.0</td>\n",
              "      <td>1.0</td>\n",
              "      <td>0.0</td>\n",
              "    </tr>\n",
              "  </tbody>\n",
              "</table>\n",
              "<p>368 rows × 3 columns</p>\n",
              "</div>"
            ],
            "text/plain": [
              "     Department_Human Resources  Department_Research & Development  \\\n",
              "0                           0.0                                0.0   \n",
              "1                           0.0                                1.0   \n",
              "2                           1.0                                0.0   \n",
              "3                           0.0                                1.0   \n",
              "4                           0.0                                1.0   \n",
              "..                          ...                                ...   \n",
              "363                         0.0                                1.0   \n",
              "364                         0.0                                1.0   \n",
              "365                         0.0                                1.0   \n",
              "366                         1.0                                0.0   \n",
              "367                         0.0                                1.0   \n",
              "\n",
              "     Department_Sales  \n",
              "0                 1.0  \n",
              "1                 0.0  \n",
              "2                 0.0  \n",
              "3                 0.0  \n",
              "4                 0.0  \n",
              "..                ...  \n",
              "363               0.0  \n",
              "364               0.0  \n",
              "365               0.0  \n",
              "366               0.0  \n",
              "367               0.0  \n",
              "\n",
              "[368 rows x 3 columns]"
            ]
          },
          "execution_count": 20,
          "metadata": {},
          "output_type": "execute_result"
        }
      ],
      "source": [
        "from sklearn.preprocessing import OneHotEncoder\n",
        "\n",
        "# Create a OneHotEncoder for the Department column\n",
        "department_encoder = OneHotEncoder()\n",
        "\n",
        "# Fit the encoder to the training data\n",
        "department_encoder.fit(y_train[['Department']])\n",
        "\n",
        "# Create two new variables by applying the encoder\n",
        "# to the training and testing data\n",
        "y_train_department_encoded = department_encoder.transform(y_train[['Department']])\n",
        "y_test_department_encoded = department_encoder.transform(y_test[['Department']])\n",
        "\n",
        "department_columns = department_encoder.get_feature_names_out(['Department'])\n",
        "y_train_department_df = pd.DataFrame(y_train_department_encoded.toarray(), columns=department_columns)\n",
        "y_test_department_df = pd.DataFrame(y_test_department_encoded.toarray(), columns=department_columns)\n"
      ]
    },
    {
      "cell_type": "code",
      "execution_count": 21,
      "metadata": {
        "colab": {
          "base_uri": "https://localhost:8080/"
        },
        "id": "-G4DSpvFRrk4",
        "outputId": "9842e948-8a55-4b80-8fac-f96714e85589"
      },
      "outputs": [],
      "source": [
        "# Create a OneHotEncoder for the Attrition column\n",
        "attrition_encoder = OneHotEncoder()\n",
        "\n",
        "# Fit the encoder to the training data\n",
        "attrition_encoder.fit(y_train[['Attrition']])\n",
        "\n",
        "# Create two new variables by applying the encoder\n",
        "# to the training and testing data\n",
        "y_train_attrition_encoded = attrition_encoder.transform(y_train[['Attrition']])\n",
        "y_test_attrition_encoded = attrition_encoder.transform(y_test[['Attrition']])\n",
        "\n",
        "\n",
        "attrition_columns = attrition_encoder.get_feature_names_out(['Attrition'])\n",
        "y_train_attrition_df = pd.DataFrame(y_train_attrition_encoded.toarray(), columns=attrition_columns)\n",
        "y_test_attrition_df = pd.DataFrame(y_test_attrition_encoded.toarray(), columns=attrition_columns)\n"
      ]
    },
    {
      "cell_type": "markdown",
      "metadata": {
        "id": "ykNmu_WWGc3T"
      },
      "source": [
        "## Create, Compile, and Train the Model"
      ]
    },
    {
      "cell_type": "code",
      "execution_count": 10,
      "metadata": {
        "id": "WUptZqmSGc3T"
      },
      "outputs": [
        {
          "name": "stdout",
          "output_type": "stream",
          "text": [
            "10\n"
          ]
        }
      ],
      "source": [
        "# Find the number of columns in the X training data\n",
        "num_columns = X_train.shape[1]\n",
        "print(num_columns)\n",
        "\n",
        "# Create the input layer\n",
        "input_layer = layers.Input(shape=(num_columns,), name='input_features')\n",
        "\n",
        "\n",
        "# Create at least two shared layers\n",
        "shared_layer1 = layers.Dense(64, activation='relu')(input_layer)\n",
        "shared_layer2 = layers.Dense(128, activation='relu')(shared_layer1)"
      ]
    },
    {
      "cell_type": "code",
      "execution_count": 11,
      "metadata": {
        "id": "JukjTm2yTEqd"
      },
      "outputs": [],
      "source": [
        "# Create a branch for Department\n",
        "# with a hidden layer and an output layer\n",
        "\n",
        "# Create the hidden layer\n",
        "department_layer1 = layers.Dense(32, activation='relu')(shared_layer2)\n",
        "\n",
        "# Create the output layer\n",
        "department_output = layers.Dense(3, activation='softmax', name='department_output')(department_layer1)\n"
      ]
    },
    {
      "cell_type": "code",
      "execution_count": 12,
      "metadata": {
        "id": "9OqhUiOJUBkR"
      },
      "outputs": [],
      "source": [
        "# Create a branch for Attrition\n",
        "# with a hidden layer and an output layer\n",
        "\n",
        "# Create the hidden layer\n",
        "attrition_layer1 = layers.Dense(32, activation='relu')(shared_layer2)\n",
        "\n",
        "# Create the output layer\n",
        "attrition_output = layers.Dense(2, activation='softmax', name='attrition_output')(attrition_layer1)\n"
      ]
    },
    {
      "cell_type": "code",
      "execution_count": 23,
      "metadata": {
        "colab": {
          "base_uri": "https://localhost:8080/"
        },
        "id": "twmuejdxGc3T",
        "outputId": "25096308-b68b-42e4-e4ea-ae82e97c435a"
      },
      "outputs": [
        {
          "name": "stdout",
          "output_type": "stream",
          "text": [
            "Model: \"model_1\"\n",
            "__________________________________________________________________________________________________\n",
            " Layer (type)                Output Shape                 Param #   Connected to                  \n",
            "==================================================================================================\n",
            " input_features (InputLayer  [(None, 10)]                 0         []                            \n",
            " )                                                                                                \n",
            "                                                                                                  \n",
            " dense (Dense)               (None, 64)                   704       ['input_features[0][0]']      \n",
            "                                                                                                  \n",
            " dense_1 (Dense)             (None, 128)                  8320      ['dense[0][0]']               \n",
            "                                                                                                  \n",
            " dense_2 (Dense)             (None, 32)                   4128      ['dense_1[0][0]']             \n",
            "                                                                                                  \n",
            " dense_3 (Dense)             (None, 32)                   4128      ['dense_1[0][0]']             \n",
            "                                                                                                  \n",
            " department_output (Dense)   (None, 3)                    99        ['dense_2[0][0]']             \n",
            "                                                                                                  \n",
            " attrition_output (Dense)    (None, 2)                    66        ['dense_3[0][0]']             \n",
            "                                                                                                  \n",
            "==================================================================================================\n",
            "Total params: 17445 (68.14 KB)\n",
            "Trainable params: 17445 (68.14 KB)\n",
            "Non-trainable params: 0 (0.00 Byte)\n",
            "__________________________________________________________________________________________________\n"
          ]
        }
      ],
      "source": [
        "# Create the model\n",
        "model = Model(inputs=input_layer, outputs=[department_output, attrition_output])\n",
        "\n",
        "# Compile the model\n",
        "model.compile(optimizer='adam',\n",
        "              loss={'department_output': 'categorical_crossentropy', 'attrition_output': 'categorical_crossentropy'},\n",
        "              metrics={'department_output': 'accuracy', 'attrition_output': 'accuracy'})\n",
        "\n",
        "# Display the model summary\n",
        "model.summary()"
      ]
    },
    {
      "cell_type": "code",
      "execution_count": 24,
      "metadata": {
        "colab": {
          "base_uri": "https://localhost:8080/"
        },
        "id": "c8oGy0dpGc3U",
        "outputId": "cc667d43-28cf-42d4-d719-c2bc02888d30"
      },
      "outputs": [
        {
          "name": "stdout",
          "output_type": "stream",
          "text": [
            "Epoch 1/100\n",
            "28/28 [==============================] - 0s 6ms/step - loss: 1.3643 - department_output_loss: 0.8611 - attrition_output_loss: 0.5032 - department_output_accuracy: 0.6640 - attrition_output_accuracy: 0.8207 - val_loss: 1.3173 - val_department_output_loss: 0.8135 - val_attrition_output_loss: 0.5039 - val_department_output_accuracy: 0.6063 - val_attrition_output_accuracy: 0.7873\n",
            "Epoch 2/100\n",
            "28/28 [==============================] - 0s 1ms/step - loss: 1.1835 - department_output_loss: 0.7479 - attrition_output_loss: 0.4356 - department_output_accuracy: 0.6652 - attrition_output_accuracy: 0.8388 - val_loss: 1.3461 - val_department_output_loss: 0.8313 - val_attrition_output_loss: 0.5148 - val_department_output_accuracy: 0.6063 - val_attrition_output_accuracy: 0.7873\n",
            "Epoch 3/100\n",
            "28/28 [==============================] - 0s 1ms/step - loss: 1.1523 - department_output_loss: 0.7336 - attrition_output_loss: 0.4187 - department_output_accuracy: 0.6663 - attrition_output_accuracy: 0.8388 - val_loss: 1.3192 - val_department_output_loss: 0.8025 - val_attrition_output_loss: 0.5167 - val_department_output_accuracy: 0.6063 - val_attrition_output_accuracy: 0.7873\n",
            "Epoch 4/100\n",
            "28/28 [==============================] - 0s 2ms/step - loss: 1.1277 - department_output_loss: 0.7203 - attrition_output_loss: 0.4074 - department_output_accuracy: 0.6652 - attrition_output_accuracy: 0.8388 - val_loss: 1.2975 - val_department_output_loss: 0.7952 - val_attrition_output_loss: 0.5023 - val_department_output_accuracy: 0.6109 - val_attrition_output_accuracy: 0.7919\n",
            "Epoch 5/100\n",
            "28/28 [==============================] - 0s 2ms/step - loss: 1.1030 - department_output_loss: 0.7069 - attrition_output_loss: 0.3961 - department_output_accuracy: 0.6720 - attrition_output_accuracy: 0.8377 - val_loss: 1.3012 - val_department_output_loss: 0.7909 - val_attrition_output_loss: 0.5102 - val_department_output_accuracy: 0.6063 - val_attrition_output_accuracy: 0.7964\n",
            "Epoch 6/100\n",
            "28/28 [==============================] - 0s 2ms/step - loss: 1.0813 - department_output_loss: 0.6951 - attrition_output_loss: 0.3862 - department_output_accuracy: 0.6776 - attrition_output_accuracy: 0.8411 - val_loss: 1.2821 - val_department_output_loss: 0.7800 - val_attrition_output_loss: 0.5020 - val_department_output_accuracy: 0.6199 - val_attrition_output_accuracy: 0.7873\n",
            "Epoch 7/100\n",
            "28/28 [==============================] - 0s 2ms/step - loss: 1.0590 - department_output_loss: 0.6823 - attrition_output_loss: 0.3768 - department_output_accuracy: 0.6890 - attrition_output_accuracy: 0.8388 - val_loss: 1.3111 - val_department_output_loss: 0.7983 - val_attrition_output_loss: 0.5129 - val_department_output_accuracy: 0.6063 - val_attrition_output_accuracy: 0.7873\n",
            "Epoch 8/100\n",
            "28/28 [==============================] - 0s 2ms/step - loss: 1.0399 - department_output_loss: 0.6739 - attrition_output_loss: 0.3660 - department_output_accuracy: 0.6867 - attrition_output_accuracy: 0.8434 - val_loss: 1.2843 - val_department_output_loss: 0.7738 - val_attrition_output_loss: 0.5105 - val_department_output_accuracy: 0.6335 - val_attrition_output_accuracy: 0.7783\n",
            "Epoch 9/100\n",
            "28/28 [==============================] - 0s 2ms/step - loss: 1.0215 - department_output_loss: 0.6655 - attrition_output_loss: 0.3559 - department_output_accuracy: 0.7049 - attrition_output_accuracy: 0.8547 - val_loss: 1.3029 - val_department_output_loss: 0.7774 - val_attrition_output_loss: 0.5255 - val_department_output_accuracy: 0.6199 - val_attrition_output_accuracy: 0.7783\n",
            "Epoch 10/100\n",
            "28/28 [==============================] - 0s 2ms/step - loss: 1.0018 - department_output_loss: 0.6511 - attrition_output_loss: 0.3507 - department_output_accuracy: 0.6992 - attrition_output_accuracy: 0.8570 - val_loss: 1.3303 - val_department_output_loss: 0.7802 - val_attrition_output_loss: 0.5501 - val_department_output_accuracy: 0.6154 - val_attrition_output_accuracy: 0.7828\n",
            "Epoch 11/100\n",
            "28/28 [==============================] - 0s 2ms/step - loss: 0.9783 - department_output_loss: 0.6392 - attrition_output_loss: 0.3391 - department_output_accuracy: 0.7117 - attrition_output_accuracy: 0.8570 - val_loss: 1.2846 - val_department_output_loss: 0.7646 - val_attrition_output_loss: 0.5200 - val_department_output_accuracy: 0.6335 - val_attrition_output_accuracy: 0.7783\n",
            "Epoch 12/100\n",
            "28/28 [==============================] - 0s 2ms/step - loss: 0.9695 - department_output_loss: 0.6335 - attrition_output_loss: 0.3360 - department_output_accuracy: 0.7185 - attrition_output_accuracy: 0.8615 - val_loss: 1.3013 - val_department_output_loss: 0.7788 - val_attrition_output_loss: 0.5225 - val_department_output_accuracy: 0.6244 - val_attrition_output_accuracy: 0.7783\n",
            "Epoch 13/100\n",
            "28/28 [==============================] - 0s 2ms/step - loss: 0.9364 - department_output_loss: 0.6174 - attrition_output_loss: 0.3189 - department_output_accuracy: 0.7264 - attrition_output_accuracy: 0.8683 - val_loss: 1.3459 - val_department_output_loss: 0.8032 - val_attrition_output_loss: 0.5426 - val_department_output_accuracy: 0.6154 - val_attrition_output_accuracy: 0.7873\n",
            "Epoch 14/100\n",
            "28/28 [==============================] - 0s 2ms/step - loss: 0.9169 - department_output_loss: 0.6071 - attrition_output_loss: 0.3098 - department_output_accuracy: 0.7401 - attrition_output_accuracy: 0.8729 - val_loss: 1.3208 - val_department_output_loss: 0.7755 - val_attrition_output_loss: 0.5452 - val_department_output_accuracy: 0.6109 - val_attrition_output_accuracy: 0.7828\n",
            "Epoch 15/100\n",
            "28/28 [==============================] - 0s 2ms/step - loss: 0.8978 - department_output_loss: 0.5963 - attrition_output_loss: 0.3014 - department_output_accuracy: 0.7389 - attrition_output_accuracy: 0.8751 - val_loss: 1.3065 - val_department_output_loss: 0.7720 - val_attrition_output_loss: 0.5345 - val_department_output_accuracy: 0.6516 - val_attrition_output_accuracy: 0.7738\n",
            "Epoch 16/100\n",
            "28/28 [==============================] - 0s 2ms/step - loss: 0.8723 - department_output_loss: 0.5831 - attrition_output_loss: 0.2892 - department_output_accuracy: 0.7639 - attrition_output_accuracy: 0.8763 - val_loss: 1.3673 - val_department_output_loss: 0.7968 - val_attrition_output_loss: 0.5705 - val_department_output_accuracy: 0.6244 - val_attrition_output_accuracy: 0.7692\n",
            "Epoch 17/100\n",
            "28/28 [==============================] - 0s 2ms/step - loss: 0.8537 - department_output_loss: 0.5714 - attrition_output_loss: 0.2823 - department_output_accuracy: 0.7548 - attrition_output_accuracy: 0.8899 - val_loss: 1.3353 - val_department_output_loss: 0.7843 - val_attrition_output_loss: 0.5509 - val_department_output_accuracy: 0.6471 - val_attrition_output_accuracy: 0.7738\n",
            "Epoch 18/100\n",
            "28/28 [==============================] - 0s 2ms/step - loss: 0.8376 - department_output_loss: 0.5618 - attrition_output_loss: 0.2758 - department_output_accuracy: 0.7719 - attrition_output_accuracy: 0.8910 - val_loss: 1.4198 - val_department_output_loss: 0.8184 - val_attrition_output_loss: 0.6014 - val_department_output_accuracy: 0.6244 - val_attrition_output_accuracy: 0.7873\n",
            "Epoch 19/100\n",
            "28/28 [==============================] - 0s 2ms/step - loss: 0.8289 - department_output_loss: 0.5540 - attrition_output_loss: 0.2749 - department_output_accuracy: 0.7650 - attrition_output_accuracy: 0.8899 - val_loss: 1.4063 - val_department_output_loss: 0.8239 - val_attrition_output_loss: 0.5823 - val_department_output_accuracy: 0.6290 - val_attrition_output_accuracy: 0.7692\n",
            "Epoch 20/100\n",
            "28/28 [==============================] - 0s 2ms/step - loss: 0.7937 - department_output_loss: 0.5361 - attrition_output_loss: 0.2577 - department_output_accuracy: 0.7787 - attrition_output_accuracy: 0.8876 - val_loss: 1.4304 - val_department_output_loss: 0.8460 - val_attrition_output_loss: 0.5843 - val_department_output_accuracy: 0.6244 - val_attrition_output_accuracy: 0.7647\n",
            "Epoch 21/100\n",
            "28/28 [==============================] - 0s 2ms/step - loss: 0.7788 - department_output_loss: 0.5341 - attrition_output_loss: 0.2447 - department_output_accuracy: 0.7809 - attrition_output_accuracy: 0.9024 - val_loss: 1.3898 - val_department_output_loss: 0.7922 - val_attrition_output_loss: 0.5975 - val_department_output_accuracy: 0.6335 - val_attrition_output_accuracy: 0.7783\n",
            "Epoch 22/100\n",
            "28/28 [==============================] - 0s 2ms/step - loss: 0.7655 - department_output_loss: 0.5209 - attrition_output_loss: 0.2446 - department_output_accuracy: 0.7946 - attrition_output_accuracy: 0.9024 - val_loss: 1.5004 - val_department_output_loss: 0.8808 - val_attrition_output_loss: 0.6196 - val_department_output_accuracy: 0.6244 - val_attrition_output_accuracy: 0.7692\n",
            "Epoch 23/100\n",
            "28/28 [==============================] - 0s 2ms/step - loss: 0.7327 - department_output_loss: 0.5017 - attrition_output_loss: 0.2310 - department_output_accuracy: 0.7900 - attrition_output_accuracy: 0.9047 - val_loss: 1.4888 - val_department_output_loss: 0.8816 - val_attrition_output_loss: 0.6072 - val_department_output_accuracy: 0.6380 - val_attrition_output_accuracy: 0.7738\n",
            "Epoch 24/100\n",
            "28/28 [==============================] - 0s 2ms/step - loss: 0.7028 - department_output_loss: 0.4854 - attrition_output_loss: 0.2175 - department_output_accuracy: 0.8059 - attrition_output_accuracy: 0.9183 - val_loss: 1.4783 - val_department_output_loss: 0.8433 - val_attrition_output_loss: 0.6351 - val_department_output_accuracy: 0.6516 - val_attrition_output_accuracy: 0.7647\n",
            "Epoch 25/100\n",
            "28/28 [==============================] - 0s 2ms/step - loss: 0.6837 - department_output_loss: 0.4729 - attrition_output_loss: 0.2108 - department_output_accuracy: 0.8127 - attrition_output_accuracy: 0.9240 - val_loss: 1.4991 - val_department_output_loss: 0.8661 - val_attrition_output_loss: 0.6330 - val_department_output_accuracy: 0.6425 - val_attrition_output_accuracy: 0.7738\n",
            "Epoch 26/100\n",
            "28/28 [==============================] - 0s 2ms/step - loss: 0.6722 - department_output_loss: 0.4579 - attrition_output_loss: 0.2143 - department_output_accuracy: 0.8252 - attrition_output_accuracy: 0.9171 - val_loss: 1.5615 - val_department_output_loss: 0.9150 - val_attrition_output_loss: 0.6465 - val_department_output_accuracy: 0.6380 - val_attrition_output_accuracy: 0.7647\n",
            "Epoch 27/100\n",
            "28/28 [==============================] - 0s 2ms/step - loss: 0.6398 - department_output_loss: 0.4437 - attrition_output_loss: 0.1961 - department_output_accuracy: 0.8309 - attrition_output_accuracy: 0.9296 - val_loss: 1.5822 - val_department_output_loss: 0.9227 - val_attrition_output_loss: 0.6595 - val_department_output_accuracy: 0.6425 - val_attrition_output_accuracy: 0.7602\n",
            "Epoch 28/100\n",
            "28/28 [==============================] - 0s 2ms/step - loss: 0.6181 - department_output_loss: 0.4349 - attrition_output_loss: 0.1832 - department_output_accuracy: 0.8365 - attrition_output_accuracy: 0.9296 - val_loss: 1.5594 - val_department_output_loss: 0.8725 - val_attrition_output_loss: 0.6869 - val_department_output_accuracy: 0.6425 - val_attrition_output_accuracy: 0.7647\n",
            "Epoch 29/100\n",
            "28/28 [==============================] - 0s 2ms/step - loss: 0.5937 - department_output_loss: 0.4212 - attrition_output_loss: 0.1725 - department_output_accuracy: 0.8536 - attrition_output_accuracy: 0.9398 - val_loss: 1.6545 - val_department_output_loss: 0.9613 - val_attrition_output_loss: 0.6932 - val_department_output_accuracy: 0.6290 - val_attrition_output_accuracy: 0.7647\n",
            "Epoch 30/100\n",
            "28/28 [==============================] - 0s 2ms/step - loss: 0.5763 - department_output_loss: 0.4068 - attrition_output_loss: 0.1695 - department_output_accuracy: 0.8388 - attrition_output_accuracy: 0.9376 - val_loss: 1.6468 - val_department_output_loss: 0.9445 - val_attrition_output_loss: 0.7024 - val_department_output_accuracy: 0.6244 - val_attrition_output_accuracy: 0.7602\n",
            "Epoch 31/100\n",
            "28/28 [==============================] - 0s 2ms/step - loss: 0.5653 - department_output_loss: 0.3991 - attrition_output_loss: 0.1662 - department_output_accuracy: 0.8490 - attrition_output_accuracy: 0.9376 - val_loss: 1.6200 - val_department_output_loss: 0.9046 - val_attrition_output_loss: 0.7154 - val_department_output_accuracy: 0.6199 - val_attrition_output_accuracy: 0.7602\n",
            "Epoch 32/100\n",
            "28/28 [==============================] - 0s 2ms/step - loss: 0.5509 - department_output_loss: 0.3840 - attrition_output_loss: 0.1669 - department_output_accuracy: 0.8513 - attrition_output_accuracy: 0.9319 - val_loss: 1.8507 - val_department_output_loss: 1.0244 - val_attrition_output_loss: 0.8264 - val_department_output_accuracy: 0.6290 - val_attrition_output_accuracy: 0.7602\n",
            "Epoch 33/100\n",
            "28/28 [==============================] - 0s 2ms/step - loss: 0.5307 - department_output_loss: 0.3718 - attrition_output_loss: 0.1589 - department_output_accuracy: 0.8751 - attrition_output_accuracy: 0.9376 - val_loss: 1.7049 - val_department_output_loss: 0.9757 - val_attrition_output_loss: 0.7292 - val_department_output_accuracy: 0.6199 - val_attrition_output_accuracy: 0.7647\n",
            "Epoch 34/100\n",
            "28/28 [==============================] - 0s 2ms/step - loss: 0.5015 - department_output_loss: 0.3536 - attrition_output_loss: 0.1479 - department_output_accuracy: 0.8649 - attrition_output_accuracy: 0.9444 - val_loss: 1.8032 - val_department_output_loss: 1.0367 - val_attrition_output_loss: 0.7665 - val_department_output_accuracy: 0.6335 - val_attrition_output_accuracy: 0.7647\n",
            "Epoch 35/100\n",
            "28/28 [==============================] - 0s 2ms/step - loss: 0.4818 - department_output_loss: 0.3523 - attrition_output_loss: 0.1295 - department_output_accuracy: 0.8717 - attrition_output_accuracy: 0.9557 - val_loss: 1.8200 - val_department_output_loss: 1.0060 - val_attrition_output_loss: 0.8140 - val_department_output_accuracy: 0.6109 - val_attrition_output_accuracy: 0.7511\n",
            "Epoch 36/100\n",
            "28/28 [==============================] - 0s 2ms/step - loss: 0.4615 - department_output_loss: 0.3376 - attrition_output_loss: 0.1238 - department_output_accuracy: 0.8638 - attrition_output_accuracy: 0.9625 - val_loss: 1.7760 - val_department_output_loss: 0.9747 - val_attrition_output_loss: 0.8013 - val_department_output_accuracy: 0.5882 - val_attrition_output_accuracy: 0.7602\n",
            "Epoch 37/100\n",
            "28/28 [==============================] - 0s 2ms/step - loss: 0.4529 - department_output_loss: 0.3335 - attrition_output_loss: 0.1194 - department_output_accuracy: 0.8695 - attrition_output_accuracy: 0.9625 - val_loss: 1.9767 - val_department_output_loss: 1.1181 - val_attrition_output_loss: 0.8586 - val_department_output_accuracy: 0.6380 - val_attrition_output_accuracy: 0.7647\n",
            "Epoch 38/100\n",
            "28/28 [==============================] - 0s 2ms/step - loss: 0.4163 - department_output_loss: 0.3085 - attrition_output_loss: 0.1079 - department_output_accuracy: 0.8888 - attrition_output_accuracy: 0.9728 - val_loss: 1.9528 - val_department_output_loss: 1.0781 - val_attrition_output_loss: 0.8747 - val_department_output_accuracy: 0.6018 - val_attrition_output_accuracy: 0.7511\n",
            "Epoch 39/100\n",
            "28/28 [==============================] - 0s 2ms/step - loss: 0.4105 - department_output_loss: 0.3036 - attrition_output_loss: 0.1069 - department_output_accuracy: 0.8944 - attrition_output_accuracy: 0.9671 - val_loss: 1.9840 - val_department_output_loss: 1.1395 - val_attrition_output_loss: 0.8445 - val_department_output_accuracy: 0.6109 - val_attrition_output_accuracy: 0.7466\n",
            "Epoch 40/100\n",
            "28/28 [==============================] - 0s 2ms/step - loss: 0.3834 - department_output_loss: 0.2823 - attrition_output_loss: 0.1011 - department_output_accuracy: 0.9047 - attrition_output_accuracy: 0.9659 - val_loss: 2.0165 - val_department_output_loss: 1.1226 - val_attrition_output_loss: 0.8939 - val_department_output_accuracy: 0.6018 - val_attrition_output_accuracy: 0.7466\n",
            "Epoch 41/100\n",
            "28/28 [==============================] - 0s 2ms/step - loss: 0.3673 - department_output_loss: 0.2743 - attrition_output_loss: 0.0930 - department_output_accuracy: 0.9103 - attrition_output_accuracy: 0.9705 - val_loss: 2.1409 - val_department_output_loss: 1.1934 - val_attrition_output_loss: 0.9476 - val_department_output_accuracy: 0.6018 - val_attrition_output_accuracy: 0.7466\n",
            "Epoch 42/100\n",
            "28/28 [==============================] - 0s 2ms/step - loss: 0.3621 - department_output_loss: 0.2686 - attrition_output_loss: 0.0936 - department_output_accuracy: 0.9183 - attrition_output_accuracy: 0.9716 - val_loss: 2.1241 - val_department_output_loss: 1.2005 - val_attrition_output_loss: 0.9236 - val_department_output_accuracy: 0.6109 - val_attrition_output_accuracy: 0.7330\n",
            "Epoch 43/100\n",
            "28/28 [==============================] - 0s 2ms/step - loss: 0.3383 - department_output_loss: 0.2536 - attrition_output_loss: 0.0847 - department_output_accuracy: 0.9228 - attrition_output_accuracy: 0.9784 - val_loss: 2.1066 - val_department_output_loss: 1.1773 - val_attrition_output_loss: 0.9293 - val_department_output_accuracy: 0.6063 - val_attrition_output_accuracy: 0.7466\n",
            "Epoch 44/100\n",
            "28/28 [==============================] - 0s 2ms/step - loss: 0.3204 - department_output_loss: 0.2385 - attrition_output_loss: 0.0819 - department_output_accuracy: 0.9228 - attrition_output_accuracy: 0.9784 - val_loss: 2.1676 - val_department_output_loss: 1.1815 - val_attrition_output_loss: 0.9862 - val_department_output_accuracy: 0.6063 - val_attrition_output_accuracy: 0.7376\n",
            "Epoch 45/100\n",
            "28/28 [==============================] - 0s 2ms/step - loss: 0.3149 - department_output_loss: 0.2355 - attrition_output_loss: 0.0794 - department_output_accuracy: 0.9262 - attrition_output_accuracy: 0.9784 - val_loss: 2.3590 - val_department_output_loss: 1.3346 - val_attrition_output_loss: 1.0244 - val_department_output_accuracy: 0.6109 - val_attrition_output_accuracy: 0.7376\n",
            "Epoch 46/100\n",
            "28/28 [==============================] - 0s 2ms/step - loss: 0.2940 - department_output_loss: 0.2244 - attrition_output_loss: 0.0696 - department_output_accuracy: 0.9274 - attrition_output_accuracy: 0.9841 - val_loss: 2.2872 - val_department_output_loss: 1.2455 - val_attrition_output_loss: 1.0417 - val_department_output_accuracy: 0.5656 - val_attrition_output_accuracy: 0.7466\n",
            "Epoch 47/100\n",
            "28/28 [==============================] - 0s 2ms/step - loss: 0.2835 - department_output_loss: 0.2166 - attrition_output_loss: 0.0668 - department_output_accuracy: 0.9330 - attrition_output_accuracy: 0.9864 - val_loss: 2.4346 - val_department_output_loss: 1.3508 - val_attrition_output_loss: 1.0837 - val_department_output_accuracy: 0.6109 - val_attrition_output_accuracy: 0.7557\n",
            "Epoch 48/100\n",
            "28/28 [==============================] - 0s 2ms/step - loss: 0.2615 - department_output_loss: 0.1953 - attrition_output_loss: 0.0662 - department_output_accuracy: 0.9455 - attrition_output_accuracy: 0.9830 - val_loss: 2.5206 - val_department_output_loss: 1.2956 - val_attrition_output_loss: 1.2250 - val_department_output_accuracy: 0.6018 - val_attrition_output_accuracy: 0.7647\n",
            "Epoch 49/100\n",
            "28/28 [==============================] - 0s 2ms/step - loss: 0.2545 - department_output_loss: 0.1884 - attrition_output_loss: 0.0661 - department_output_accuracy: 0.9569 - attrition_output_accuracy: 0.9852 - val_loss: 2.5633 - val_department_output_loss: 1.3897 - val_attrition_output_loss: 1.1736 - val_department_output_accuracy: 0.6109 - val_attrition_output_accuracy: 0.7557\n",
            "Epoch 50/100\n",
            "28/28 [==============================] - 0s 2ms/step - loss: 0.2529 - department_output_loss: 0.1879 - attrition_output_loss: 0.0650 - department_output_accuracy: 0.9432 - attrition_output_accuracy: 0.9852 - val_loss: 2.5210 - val_department_output_loss: 1.3703 - val_attrition_output_loss: 1.1507 - val_department_output_accuracy: 0.6018 - val_attrition_output_accuracy: 0.7511\n",
            "Epoch 51/100\n",
            "28/28 [==============================] - 0s 2ms/step - loss: 0.2490 - department_output_loss: 0.1853 - attrition_output_loss: 0.0637 - department_output_accuracy: 0.9376 - attrition_output_accuracy: 0.9830 - val_loss: 2.5236 - val_department_output_loss: 1.4135 - val_attrition_output_loss: 1.1101 - val_department_output_accuracy: 0.5882 - val_attrition_output_accuracy: 0.7511\n",
            "Epoch 52/100\n",
            "28/28 [==============================] - 0s 2ms/step - loss: 0.2344 - department_output_loss: 0.1659 - attrition_output_loss: 0.0685 - department_output_accuracy: 0.9591 - attrition_output_accuracy: 0.9728 - val_loss: 2.5763 - val_department_output_loss: 1.3923 - val_attrition_output_loss: 1.1841 - val_department_output_accuracy: 0.5747 - val_attrition_output_accuracy: 0.7466\n",
            "Epoch 53/100\n",
            "28/28 [==============================] - 0s 2ms/step - loss: 0.2115 - department_output_loss: 0.1620 - attrition_output_loss: 0.0495 - department_output_accuracy: 0.9546 - attrition_output_accuracy: 0.9921 - val_loss: 2.7510 - val_department_output_loss: 1.4974 - val_attrition_output_loss: 1.2536 - val_department_output_accuracy: 0.5882 - val_attrition_output_accuracy: 0.7511\n",
            "Epoch 54/100\n",
            "28/28 [==============================] - 0s 2ms/step - loss: 0.2028 - department_output_loss: 0.1563 - attrition_output_loss: 0.0465 - department_output_accuracy: 0.9569 - attrition_output_accuracy: 0.9909 - val_loss: 2.7318 - val_department_output_loss: 1.5296 - val_attrition_output_loss: 1.2022 - val_department_output_accuracy: 0.5973 - val_attrition_output_accuracy: 0.7285\n",
            "Epoch 55/100\n",
            "28/28 [==============================] - 0s 2ms/step - loss: 0.2028 - department_output_loss: 0.1458 - attrition_output_loss: 0.0570 - department_output_accuracy: 0.9671 - attrition_output_accuracy: 0.9830 - val_loss: 2.8244 - val_department_output_loss: 1.4837 - val_attrition_output_loss: 1.3407 - val_department_output_accuracy: 0.5928 - val_attrition_output_accuracy: 0.7692\n",
            "Epoch 56/100\n",
            "28/28 [==============================] - 0s 2ms/step - loss: 0.1889 - department_output_loss: 0.1390 - attrition_output_loss: 0.0499 - department_output_accuracy: 0.9614 - attrition_output_accuracy: 0.9886 - val_loss: 2.8423 - val_department_output_loss: 1.6443 - val_attrition_output_loss: 1.1980 - val_department_output_accuracy: 0.5973 - val_attrition_output_accuracy: 0.7240\n",
            "Epoch 57/100\n",
            "28/28 [==============================] - 0s 2ms/step - loss: 0.1702 - department_output_loss: 0.1290 - attrition_output_loss: 0.0412 - department_output_accuracy: 0.9750 - attrition_output_accuracy: 0.9955 - val_loss: 2.9519 - val_department_output_loss: 1.6043 - val_attrition_output_loss: 1.3475 - val_department_output_accuracy: 0.5792 - val_attrition_output_accuracy: 0.7557\n",
            "Epoch 58/100\n",
            "28/28 [==============================] - 0s 2ms/step - loss: 0.1589 - department_output_loss: 0.1212 - attrition_output_loss: 0.0378 - department_output_accuracy: 0.9773 - attrition_output_accuracy: 0.9955 - val_loss: 2.9375 - val_department_output_loss: 1.6297 - val_attrition_output_loss: 1.3078 - val_department_output_accuracy: 0.5611 - val_attrition_output_accuracy: 0.7511\n",
            "Epoch 59/100\n",
            "28/28 [==============================] - 0s 2ms/step - loss: 0.1572 - department_output_loss: 0.1246 - attrition_output_loss: 0.0326 - department_output_accuracy: 0.9648 - attrition_output_accuracy: 0.9966 - val_loss: 3.0888 - val_department_output_loss: 1.6935 - val_attrition_output_loss: 1.3954 - val_department_output_accuracy: 0.5837 - val_attrition_output_accuracy: 0.7511\n",
            "Epoch 60/100\n",
            "28/28 [==============================] - 0s 2ms/step - loss: 0.1543 - department_output_loss: 0.1206 - attrition_output_loss: 0.0337 - department_output_accuracy: 0.9682 - attrition_output_accuracy: 0.9966 - val_loss: 3.1946 - val_department_output_loss: 1.7152 - val_attrition_output_loss: 1.4794 - val_department_output_accuracy: 0.5882 - val_attrition_output_accuracy: 0.7647\n",
            "Epoch 61/100\n",
            "28/28 [==============================] - 0s 2ms/step - loss: 0.1427 - department_output_loss: 0.1104 - attrition_output_loss: 0.0323 - department_output_accuracy: 0.9762 - attrition_output_accuracy: 0.9966 - val_loss: 3.1941 - val_department_output_loss: 1.7980 - val_attrition_output_loss: 1.3961 - val_department_output_accuracy: 0.5882 - val_attrition_output_accuracy: 0.7421\n",
            "Epoch 62/100\n",
            "28/28 [==============================] - 0s 2ms/step - loss: 0.1288 - department_output_loss: 0.1015 - attrition_output_loss: 0.0273 - department_output_accuracy: 0.9784 - attrition_output_accuracy: 0.9977 - val_loss: 3.1138 - val_department_output_loss: 1.6702 - val_attrition_output_loss: 1.4436 - val_department_output_accuracy: 0.5656 - val_attrition_output_accuracy: 0.7511\n",
            "Epoch 63/100\n",
            "28/28 [==============================] - 0s 2ms/step - loss: 0.1185 - department_output_loss: 0.0918 - attrition_output_loss: 0.0267 - department_output_accuracy: 0.9886 - attrition_output_accuracy: 0.9966 - val_loss: 3.1844 - val_department_output_loss: 1.7524 - val_attrition_output_loss: 1.4321 - val_department_output_accuracy: 0.5928 - val_attrition_output_accuracy: 0.7511\n",
            "Epoch 64/100\n",
            "28/28 [==============================] - 0s 2ms/step - loss: 0.1137 - department_output_loss: 0.0891 - attrition_output_loss: 0.0247 - department_output_accuracy: 0.9909 - attrition_output_accuracy: 0.9977 - val_loss: 3.3587 - val_department_output_loss: 1.8452 - val_attrition_output_loss: 1.5135 - val_department_output_accuracy: 0.5792 - val_attrition_output_accuracy: 0.7511\n",
            "Epoch 65/100\n",
            "28/28 [==============================] - 0s 2ms/step - loss: 0.1173 - department_output_loss: 0.0934 - attrition_output_loss: 0.0239 - department_output_accuracy: 0.9807 - attrition_output_accuracy: 0.9977 - val_loss: 3.3348 - val_department_output_loss: 1.8156 - val_attrition_output_loss: 1.5192 - val_department_output_accuracy: 0.5792 - val_attrition_output_accuracy: 0.7511\n",
            "Epoch 66/100\n",
            "28/28 [==============================] - 0s 2ms/step - loss: 0.1180 - department_output_loss: 0.0942 - attrition_output_loss: 0.0238 - department_output_accuracy: 0.9796 - attrition_output_accuracy: 0.9955 - val_loss: 3.4063 - val_department_output_loss: 1.8179 - val_attrition_output_loss: 1.5884 - val_department_output_accuracy: 0.5656 - val_attrition_output_accuracy: 0.7511\n",
            "Epoch 67/100\n",
            "28/28 [==============================] - 0s 2ms/step - loss: 0.1041 - department_output_loss: 0.0800 - attrition_output_loss: 0.0241 - department_output_accuracy: 0.9841 - attrition_output_accuracy: 0.9955 - val_loss: 3.3962 - val_department_output_loss: 1.8197 - val_attrition_output_loss: 1.5765 - val_department_output_accuracy: 0.5792 - val_attrition_output_accuracy: 0.7466\n",
            "Epoch 68/100\n",
            "28/28 [==============================] - 0s 2ms/step - loss: 0.0995 - department_output_loss: 0.0759 - attrition_output_loss: 0.0236 - department_output_accuracy: 0.9875 - attrition_output_accuracy: 0.9943 - val_loss: 3.4754 - val_department_output_loss: 1.9030 - val_attrition_output_loss: 1.5725 - val_department_output_accuracy: 0.5882 - val_attrition_output_accuracy: 0.7466\n",
            "Epoch 69/100\n",
            "28/28 [==============================] - 0s 2ms/step - loss: 0.0930 - department_output_loss: 0.0702 - attrition_output_loss: 0.0228 - department_output_accuracy: 0.9886 - attrition_output_accuracy: 0.9977 - val_loss: 3.5235 - val_department_output_loss: 1.9962 - val_attrition_output_loss: 1.5273 - val_department_output_accuracy: 0.5656 - val_attrition_output_accuracy: 0.7421\n",
            "Epoch 70/100\n",
            "28/28 [==============================] - 0s 2ms/step - loss: 0.0986 - department_output_loss: 0.0707 - attrition_output_loss: 0.0279 - department_output_accuracy: 0.9886 - attrition_output_accuracy: 0.9955 - val_loss: 3.7100 - val_department_output_loss: 2.0444 - val_attrition_output_loss: 1.6656 - val_department_output_accuracy: 0.5701 - val_attrition_output_accuracy: 0.7511\n",
            "Epoch 71/100\n",
            "28/28 [==============================] - 0s 2ms/step - loss: 0.0883 - department_output_loss: 0.0680 - attrition_output_loss: 0.0203 - department_output_accuracy: 0.9875 - attrition_output_accuracy: 0.9966 - val_loss: 3.6773 - val_department_output_loss: 2.0257 - val_attrition_output_loss: 1.6515 - val_department_output_accuracy: 0.5837 - val_attrition_output_accuracy: 0.7421\n",
            "Epoch 72/100\n",
            "28/28 [==============================] - 0s 2ms/step - loss: 0.0855 - department_output_loss: 0.0632 - attrition_output_loss: 0.0223 - department_output_accuracy: 0.9909 - attrition_output_accuracy: 0.9943 - val_loss: 3.6710 - val_department_output_loss: 2.0224 - val_attrition_output_loss: 1.6486 - val_department_output_accuracy: 0.5701 - val_attrition_output_accuracy: 0.7557\n",
            "Epoch 73/100\n",
            "28/28 [==============================] - 0s 2ms/step - loss: 0.0806 - department_output_loss: 0.0583 - attrition_output_loss: 0.0223 - department_output_accuracy: 0.9909 - attrition_output_accuracy: 0.9955 - val_loss: 3.7395 - val_department_output_loss: 2.1611 - val_attrition_output_loss: 1.5784 - val_department_output_accuracy: 0.5837 - val_attrition_output_accuracy: 0.7285\n",
            "Epoch 74/100\n",
            "28/28 [==============================] - 0s 2ms/step - loss: 0.0708 - department_output_loss: 0.0546 - attrition_output_loss: 0.0162 - department_output_accuracy: 0.9932 - attrition_output_accuracy: 0.9966 - val_loss: 3.7377 - val_department_output_loss: 2.0709 - val_attrition_output_loss: 1.6668 - val_department_output_accuracy: 0.5611 - val_attrition_output_accuracy: 0.7376\n",
            "Epoch 75/100\n",
            "28/28 [==============================] - 0s 2ms/step - loss: 0.0658 - department_output_loss: 0.0514 - attrition_output_loss: 0.0144 - department_output_accuracy: 0.9921 - attrition_output_accuracy: 0.9989 - val_loss: 3.8053 - val_department_output_loss: 2.0725 - val_attrition_output_loss: 1.7328 - val_department_output_accuracy: 0.5837 - val_attrition_output_accuracy: 0.7466\n",
            "Epoch 76/100\n",
            "28/28 [==============================] - 0s 2ms/step - loss: 0.0660 - department_output_loss: 0.0515 - attrition_output_loss: 0.0144 - department_output_accuracy: 0.9943 - attrition_output_accuracy: 0.9977 - val_loss: 3.9109 - val_department_output_loss: 2.1841 - val_attrition_output_loss: 1.7267 - val_department_output_accuracy: 0.5792 - val_attrition_output_accuracy: 0.7511\n",
            "Epoch 77/100\n",
            "28/28 [==============================] - 0s 2ms/step - loss: 0.0618 - department_output_loss: 0.0472 - attrition_output_loss: 0.0146 - department_output_accuracy: 0.9977 - attrition_output_accuracy: 0.9977 - val_loss: 3.9803 - val_department_output_loss: 2.2081 - val_attrition_output_loss: 1.7722 - val_department_output_accuracy: 0.5747 - val_attrition_output_accuracy: 0.7466\n",
            "Epoch 78/100\n",
            "28/28 [==============================] - 0s 2ms/step - loss: 0.0568 - department_output_loss: 0.0434 - attrition_output_loss: 0.0134 - department_output_accuracy: 0.9977 - attrition_output_accuracy: 0.9989 - val_loss: 4.0390 - val_department_output_loss: 2.2210 - val_attrition_output_loss: 1.8180 - val_department_output_accuracy: 0.5792 - val_attrition_output_accuracy: 0.7466\n",
            "Epoch 79/100\n",
            "28/28 [==============================] - 0s 2ms/step - loss: 0.0556 - department_output_loss: 0.0420 - attrition_output_loss: 0.0135 - department_output_accuracy: 0.9943 - attrition_output_accuracy: 0.9977 - val_loss: 4.0144 - val_department_output_loss: 2.1849 - val_attrition_output_loss: 1.8295 - val_department_output_accuracy: 0.5611 - val_attrition_output_accuracy: 0.7511\n",
            "Epoch 80/100\n",
            "28/28 [==============================] - 0s 2ms/step - loss: 0.0539 - department_output_loss: 0.0420 - attrition_output_loss: 0.0119 - department_output_accuracy: 0.9977 - attrition_output_accuracy: 0.9989 - val_loss: 4.0817 - val_department_output_loss: 2.2754 - val_attrition_output_loss: 1.8063 - val_department_output_accuracy: 0.5837 - val_attrition_output_accuracy: 0.7511\n",
            "Epoch 81/100\n",
            "28/28 [==============================] - 0s 2ms/step - loss: 0.0584 - department_output_loss: 0.0472 - attrition_output_loss: 0.0112 - department_output_accuracy: 0.9955 - attrition_output_accuracy: 0.9989 - val_loss: 4.2697 - val_department_output_loss: 2.4371 - val_attrition_output_loss: 1.8327 - val_department_output_accuracy: 0.5837 - val_attrition_output_accuracy: 0.7466\n",
            "Epoch 82/100\n",
            "28/28 [==============================] - 0s 2ms/step - loss: 0.0577 - department_output_loss: 0.0461 - attrition_output_loss: 0.0116 - department_output_accuracy: 0.9966 - attrition_output_accuracy: 1.0000 - val_loss: 4.2488 - val_department_output_loss: 2.3054 - val_attrition_output_loss: 1.9435 - val_department_output_accuracy: 0.5747 - val_attrition_output_accuracy: 0.7692\n",
            "Epoch 83/100\n",
            "28/28 [==============================] - 0s 2ms/step - loss: 0.0614 - department_output_loss: 0.0463 - attrition_output_loss: 0.0151 - department_output_accuracy: 0.9921 - attrition_output_accuracy: 0.9966 - val_loss: 4.1634 - val_department_output_loss: 2.3109 - val_attrition_output_loss: 1.8525 - val_department_output_accuracy: 0.5520 - val_attrition_output_accuracy: 0.7285\n",
            "Epoch 84/100\n",
            "28/28 [==============================] - 0s 2ms/step - loss: 0.0574 - department_output_loss: 0.0423 - attrition_output_loss: 0.0151 - department_output_accuracy: 0.9966 - attrition_output_accuracy: 0.9977 - val_loss: 4.2690 - val_department_output_loss: 2.4115 - val_attrition_output_loss: 1.8575 - val_department_output_accuracy: 0.5882 - val_attrition_output_accuracy: 0.7466\n",
            "Epoch 85/100\n",
            "28/28 [==============================] - 0s 2ms/step - loss: 0.0676 - department_output_loss: 0.0486 - attrition_output_loss: 0.0190 - department_output_accuracy: 0.9932 - attrition_output_accuracy: 0.9943 - val_loss: 4.1637 - val_department_output_loss: 2.4320 - val_attrition_output_loss: 1.7317 - val_department_output_accuracy: 0.5611 - val_attrition_output_accuracy: 0.7195\n",
            "Epoch 86/100\n",
            "28/28 [==============================] - 0s 2ms/step - loss: 0.0533 - department_output_loss: 0.0364 - attrition_output_loss: 0.0169 - department_output_accuracy: 0.9989 - attrition_output_accuracy: 0.9966 - val_loss: 4.3427 - val_department_output_loss: 2.3600 - val_attrition_output_loss: 1.9826 - val_department_output_accuracy: 0.5701 - val_attrition_output_accuracy: 0.7602\n",
            "Epoch 87/100\n",
            "28/28 [==============================] - 0s 2ms/step - loss: 0.0486 - department_output_loss: 0.0310 - attrition_output_loss: 0.0177 - department_output_accuracy: 0.9989 - attrition_output_accuracy: 0.9943 - val_loss: 4.4158 - val_department_output_loss: 2.4198 - val_attrition_output_loss: 1.9960 - val_department_output_accuracy: 0.5882 - val_attrition_output_accuracy: 0.7421\n",
            "Epoch 88/100\n",
            "28/28 [==============================] - 0s 2ms/step - loss: 0.0460 - department_output_loss: 0.0284 - attrition_output_loss: 0.0176 - department_output_accuracy: 0.9977 - attrition_output_accuracy: 0.9977 - val_loss: 4.5469 - val_department_output_loss: 2.5547 - val_attrition_output_loss: 1.9921 - val_department_output_accuracy: 0.5747 - val_attrition_output_accuracy: 0.7059\n",
            "Epoch 89/100\n",
            "28/28 [==============================] - 0s 2ms/step - loss: 0.0542 - department_output_loss: 0.0291 - attrition_output_loss: 0.0251 - department_output_accuracy: 0.9977 - attrition_output_accuracy: 0.9921 - val_loss: 4.4315 - val_department_output_loss: 2.6056 - val_attrition_output_loss: 1.8259 - val_department_output_accuracy: 0.5747 - val_attrition_output_accuracy: 0.7195\n",
            "Epoch 90/100\n",
            "28/28 [==============================] - 0s 2ms/step - loss: 0.0497 - department_output_loss: 0.0319 - attrition_output_loss: 0.0178 - department_output_accuracy: 0.9966 - attrition_output_accuracy: 0.9977 - val_loss: 4.5549 - val_department_output_loss: 2.5465 - val_attrition_output_loss: 2.0084 - val_department_output_accuracy: 0.5701 - val_attrition_output_accuracy: 0.7466\n",
            "Epoch 91/100\n",
            "28/28 [==============================] - 0s 2ms/step - loss: 0.0390 - department_output_loss: 0.0289 - attrition_output_loss: 0.0100 - department_output_accuracy: 0.9989 - attrition_output_accuracy: 0.9989 - val_loss: 4.6762 - val_department_output_loss: 2.5874 - val_attrition_output_loss: 2.0889 - val_department_output_accuracy: 0.5747 - val_attrition_output_accuracy: 0.7330\n",
            "Epoch 92/100\n",
            "28/28 [==============================] - 0s 2ms/step - loss: 0.0347 - department_output_loss: 0.0265 - attrition_output_loss: 0.0082 - department_output_accuracy: 0.9989 - attrition_output_accuracy: 1.0000 - val_loss: 4.6023 - val_department_output_loss: 2.6354 - val_attrition_output_loss: 1.9669 - val_department_output_accuracy: 0.5701 - val_attrition_output_accuracy: 0.7330\n",
            "Epoch 93/100\n",
            "28/28 [==============================] - 0s 2ms/step - loss: 0.0295 - department_output_loss: 0.0222 - attrition_output_loss: 0.0073 - department_output_accuracy: 1.0000 - attrition_output_accuracy: 0.9989 - val_loss: 4.8044 - val_department_output_loss: 2.7281 - val_attrition_output_loss: 2.0764 - val_department_output_accuracy: 0.5747 - val_attrition_output_accuracy: 0.7466\n",
            "Epoch 94/100\n",
            "28/28 [==============================] - 0s 2ms/step - loss: 0.0311 - department_output_loss: 0.0222 - attrition_output_loss: 0.0089 - department_output_accuracy: 0.9989 - attrition_output_accuracy: 0.9966 - val_loss: 4.8286 - val_department_output_loss: 2.6442 - val_attrition_output_loss: 2.1844 - val_department_output_accuracy: 0.5792 - val_attrition_output_accuracy: 0.7557\n",
            "Epoch 95/100\n",
            "28/28 [==============================] - 0s 2ms/step - loss: 0.0297 - department_output_loss: 0.0217 - attrition_output_loss: 0.0080 - department_output_accuracy: 1.0000 - attrition_output_accuracy: 1.0000 - val_loss: 4.9548 - val_department_output_loss: 2.7625 - val_attrition_output_loss: 2.1923 - val_department_output_accuracy: 0.5747 - val_attrition_output_accuracy: 0.7421\n",
            "Epoch 96/100\n",
            "28/28 [==============================] - 0s 2ms/step - loss: 0.0326 - department_output_loss: 0.0223 - attrition_output_loss: 0.0103 - department_output_accuracy: 0.9966 - attrition_output_accuracy: 0.9977 - val_loss: 4.6684 - val_department_output_loss: 2.6996 - val_attrition_output_loss: 1.9688 - val_department_output_accuracy: 0.5792 - val_attrition_output_accuracy: 0.7330\n",
            "Epoch 97/100\n",
            "28/28 [==============================] - 0s 2ms/step - loss: 0.0340 - department_output_loss: 0.0271 - attrition_output_loss: 0.0069 - department_output_accuracy: 0.9955 - attrition_output_accuracy: 0.9989 - val_loss: 4.8032 - val_department_output_loss: 2.7504 - val_attrition_output_loss: 2.0529 - val_department_output_accuracy: 0.5701 - val_attrition_output_accuracy: 0.7285\n",
            "Epoch 98/100\n",
            "28/28 [==============================] - 0s 2ms/step - loss: 0.0278 - department_output_loss: 0.0194 - attrition_output_loss: 0.0084 - department_output_accuracy: 0.9989 - attrition_output_accuracy: 0.9977 - val_loss: 4.7947 - val_department_output_loss: 2.7518 - val_attrition_output_loss: 2.0429 - val_department_output_accuracy: 0.5747 - val_attrition_output_accuracy: 0.7285\n",
            "Epoch 99/100\n",
            "28/28 [==============================] - 0s 2ms/step - loss: 0.0245 - department_output_loss: 0.0180 - attrition_output_loss: 0.0065 - department_output_accuracy: 1.0000 - attrition_output_accuracy: 1.0000 - val_loss: 4.8087 - val_department_output_loss: 2.6637 - val_attrition_output_loss: 2.1450 - val_department_output_accuracy: 0.5656 - val_attrition_output_accuracy: 0.7330\n",
            "Epoch 100/100\n",
            "28/28 [==============================] - 0s 2ms/step - loss: 0.0253 - department_output_loss: 0.0198 - attrition_output_loss: 0.0056 - department_output_accuracy: 0.9977 - attrition_output_accuracy: 1.0000 - val_loss: 5.0257 - val_department_output_loss: 2.8006 - val_attrition_output_loss: 2.2252 - val_department_output_accuracy: 0.5792 - val_attrition_output_accuracy: 0.7557\n"
          ]
        },
        {
          "data": {
            "text/plain": [
              "<keras.src.callbacks.History at 0x285957450>"
            ]
          },
          "execution_count": 24,
          "metadata": {},
          "output_type": "execute_result"
        }
      ],
      "source": [
        "# Train the model\n",
        "model.fit(\n",
        "    X_train_scaled,\n",
        "    {'department_output': y_train_department_df, 'attrition_output': y_train_attrition_df},\n",
        "    epochs=100,\n",
        "    validation_split=0.2\n",
        ")\n"
      ]
    },
    {
      "cell_type": "code",
      "execution_count": 33,
      "metadata": {
        "colab": {
          "base_uri": "https://localhost:8080/"
        },
        "id": "VsMoaQlgGc3U",
        "outputId": "1bd4e601-e964-4abc-ad83-aeecf6b696be"
      },
      "outputs": [
        {
          "name": "stdout",
          "output_type": "stream",
          "text": [
            "12/12 [==============================] - 0s 1ms/step - loss: 4.3668 - department_output_loss: 2.8559 - attrition_output_loss: 1.5109 - department_output_accuracy: 0.5707 - attrition_output_accuracy: 0.8125\n"
          ]
        },
        {
          "data": {
            "text/plain": [
              "[4.366790771484375,\n",
              " 2.8558554649353027,\n",
              " 1.5109349489212036,\n",
              " 0.570652186870575,\n",
              " 0.8125]"
            ]
          },
          "execution_count": 33,
          "metadata": {},
          "output_type": "execute_result"
        }
      ],
      "source": [
        "# Evaluate the model with the testing data\n",
        "test_results = model.evaluate(\n",
        "    X_test_scaled,\n",
        "    {'department_output': y_test_department_df, 'attrition_output': y_test_attrition_df}\n",
        ")\n",
        "test_results"
      ]
    },
    {
      "cell_type": "code",
      "execution_count": 35,
      "metadata": {
        "colab": {
          "base_uri": "https://localhost:8080/"
        },
        "id": "ZlCtlHi0Vt54",
        "outputId": "bc21ef3e-80c2-4b38-9c29-79515bc23dec"
      },
      "outputs": [
        {
          "name": "stdout",
          "output_type": "stream",
          "text": [
            "Department predictions accuracy: 0.570652186870575\n",
            "Attrition predictions accuracy: 0.8125\n"
          ]
        }
      ],
      "source": [
        "# Print the accuracy for both the department and attrition branches\n",
        "print(f\"Department predictions accuracy: {test_results[3]}\")\n",
        "print(f\"Attrition predictions accuracy: {test_results[4]}\")\n"
      ]
    },
    {
      "cell_type": "markdown",
      "metadata": {
        "id": "eGSyfsZfWOQM"
      },
      "source": [
        "# Summary\n",
        "\n",
        "In the provided space below, briefly answer the following questions.\n",
        "\n",
        "1. Is accuracy the best metric to use on this data? Why or why not?\n",
        "\n",
        "2. What activation functions did you choose for your output layers, and why?\n",
        "\n",
        "3. Can you name a few ways that this model might be improved?"
      ]
    },
    {
      "cell_type": "markdown",
      "metadata": {
        "id": "pi9SLpFnWvbF"
      },
      "source": [
        "YOUR ANSWERS HERE\n",
        "\n",
        "1. \n",
        "2. I chose to use the softmax activation since it is better than the sigmoid for multi-class classification problems and since there are 3 and 2 outputs for departments and attrition, respectfully, it made more sense to use softmax\n",
        "3. "
      ]
    },
    {
      "cell_type": "markdown",
      "metadata": {},
      "source": []
    }
  ],
  "metadata": {
    "colab": {
      "provenance": []
    },
    "kernelspec": {
      "display_name": "Python 3",
      "language": "python",
      "name": "python3"
    },
    "language_info": {
      "codemirror_mode": {
        "name": "ipython",
        "version": 3
      },
      "file_extension": ".py",
      "mimetype": "text/x-python",
      "name": "python",
      "nbconvert_exporter": "python",
      "pygments_lexer": "ipython3",
      "version": "3.11.8"
    },
    "vscode": {
      "interpreter": {
        "hash": "31f2aee4e71d21fbe5cf8b01ff0e069b9275f58929596ceb00d14d90e3e16cd6"
      }
    }
  },
  "nbformat": 4,
  "nbformat_minor": 0
}
